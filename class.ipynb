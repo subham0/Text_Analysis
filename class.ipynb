{
 "cells": [
  {
   "cell_type": "code",
   "execution_count": 3,
   "metadata": {
    "collapsed": true
   },
   "outputs": [],
   "source": [
    "class Employee:\n",
    "    empcount = 0\n",
    "    def __init__(self,name,sex):\n",
    "        self.name = name\n",
    "        self.sex = sex\n",
    "        Employee.empcount+=1\n",
    "    def display_empcount(self):\n",
    "        print(\"Employee Count is \",Employee.empcount)\n",
    "    def display_employee(self):\n",
    "        print(\"Employee Name is \",self.name,\" Employee Sex \",self.sex)        "
   ]
  },
  {
   "cell_type": "code",
   "execution_count": 4,
   "metadata": {},
   "outputs": [],
   "source": [
    "e1 = Employee(\"Subham\",\"Male\")\n",
    "e2 = Employee(\"Ganesh\",\"Male\")\n",
    "e3 = Employee(\"Mayank\",\"Male\")\n",
    "e4 = Employee(\"Harshel\",\"Male\")\n",
    "e5 = Employee(\"Akash\",\"Male\")\n",
    "e6 = Employee(\"Durgeshwar\",\"Male\")"
   ]
  },
  {
   "cell_type": "code",
   "execution_count": 6,
   "metadata": {},
   "outputs": [
    {
     "name": "stdout",
     "output_type": "stream",
     "text": [
      "Employee Count is  6\n"
     ]
    }
   ],
   "source": [
    "e1.display_empcount()"
   ]
  },
  {
   "cell_type": "code",
   "execution_count": 7,
   "metadata": {},
   "outputs": [
    {
     "name": "stdout",
     "output_type": "stream",
     "text": [
      "Employee Name is  Subham  Employee Sex  Male\n"
     ]
    }
   ],
   "source": [
    "e1.display_employee()"
   ]
  },
  {
   "cell_type": "code",
   "execution_count": 8,
   "metadata": {},
   "outputs": [
    {
     "name": "stdout",
     "output_type": "stream",
     "text": [
      "Employee Count is  6\n"
     ]
    }
   ],
   "source": [
    "e6.display_empcount()"
   ]
  },
  {
   "cell_type": "code",
   "execution_count": 9,
   "metadata": {},
   "outputs": [
    {
     "name": "stdout",
     "output_type": "stream",
     "text": [
      "Employee Name is  Durgeshwar  Employee Sex  Male\n"
     ]
    }
   ],
   "source": [
    "e6.display_employee()"
   ]
  },
  {
   "cell_type": "code",
   "execution_count": null,
   "metadata": {
    "collapsed": true
   },
   "outputs": [],
   "source": []
  }
 ],
 "metadata": {
  "kernelspec": {
   "display_name": "Python 3",
   "language": "python",
   "name": "python3"
  },
  "language_info": {
   "codemirror_mode": {
    "name": "ipython",
    "version": 3
   },
   "file_extension": ".py",
   "mimetype": "text/x-python",
   "name": "python",
   "nbconvert_exporter": "python",
   "pygments_lexer": "ipython3",
   "version": "3.6.1"
  }
 },
 "nbformat": 4,
 "nbformat_minor": 2
}
